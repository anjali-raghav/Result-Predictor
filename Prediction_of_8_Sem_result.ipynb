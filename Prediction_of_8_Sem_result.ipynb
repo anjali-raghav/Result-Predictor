{
  "nbformat": 4,
  "nbformat_minor": 0,
  "metadata": {
    "colab": {
      "name": "Prediction of 8 Sem result.ipynb",
      "provenance": []
    },
    "kernelspec": {
      "name": "python3",
      "display_name": "Python 3"
    }
  },
  "cells": [
    {
      "cell_type": "code",
      "metadata": {
        "id": "DYIHkNZKxWxQ",
        "colab_type": "code",
        "colab": {}
      },
      "source": [
        "import pandas as pd\n",
        "import numpy as np"
      ],
      "execution_count": null,
      "outputs": []
    },
    {
      "cell_type": "code",
      "metadata": {
        "id": "btMEJEkgxdfw",
        "colab_type": "code",
        "colab": {}
      },
      "source": [
        "data=pd.read_excel('Data_15.xlsx')"
      ],
      "execution_count": null,
      "outputs": []
    },
    {
      "cell_type": "code",
      "metadata": {
        "id": "4IA6y1Wpxf7h",
        "colab_type": "code",
        "colab": {
          "base_uri": "https://localhost:8080/",
          "height": 422
        },
        "outputId": "ee01887e-b511-423d-e001-bf7422b7d61d"
      },
      "source": [
        "data"
      ],
      "execution_count": null,
      "outputs": [
        {
          "output_type": "execute_result",
          "data": {
            "text/html": [
              "<div>\n",
              "<style scoped>\n",
              "    .dataframe tbody tr th:only-of-type {\n",
              "        vertical-align: middle;\n",
              "    }\n",
              "\n",
              "    .dataframe tbody tr th {\n",
              "        vertical-align: top;\n",
              "    }\n",
              "\n",
              "    .dataframe thead th {\n",
              "        text-align: right;\n",
              "    }\n",
              "</style>\n",
              "<table border=\"1\" class=\"dataframe\">\n",
              "  <thead>\n",
              "    <tr style=\"text-align: right;\">\n",
              "      <th></th>\n",
              "      <th>Roll No.</th>\n",
              "      <th>Sem_1_i</th>\n",
              "      <th>Sem_1_e</th>\n",
              "      <th>Sem_1_t</th>\n",
              "      <th>Sem_1_b</th>\n",
              "      <th>Sem_2_i</th>\n",
              "      <th>Sem_2_e</th>\n",
              "      <th>Sem_2_t</th>\n",
              "      <th>Sem_2_b</th>\n",
              "      <th>Sem_3_i</th>\n",
              "      <th>Sem_3_e</th>\n",
              "      <th>Sem_3_t</th>\n",
              "      <th>Sem_3_b</th>\n",
              "      <th>Sem_4_i</th>\n",
              "      <th>Sem_4_e</th>\n",
              "      <th>Sem_4_t</th>\n",
              "      <th>Sem_4_b</th>\n",
              "      <th>Sem_5_i</th>\n",
              "      <th>Sem_5_e</th>\n",
              "      <th>Sem_5_t</th>\n",
              "      <th>Sem_5_b</th>\n",
              "      <th>Sem_6_i</th>\n",
              "      <th>Sem_6_e</th>\n",
              "      <th>Sem_6_t</th>\n",
              "      <th>Sem_6_b</th>\n",
              "      <th>Sem_7_i</th>\n",
              "      <th>Sem_7_i.1</th>\n",
              "      <th>Sem_7_i.2</th>\n",
              "      <th>Sem_7_i.3</th>\n",
              "      <th>Sem_8_i</th>\n",
              "      <th>Sem_8_e</th>\n",
              "      <th>Sem_8_b</th>\n",
              "      <th>Sem_8_t</th>\n",
              "    </tr>\n",
              "  </thead>\n",
              "  <tbody>\n",
              "    <tr>\n",
              "      <th>0</th>\n",
              "      <td>110102715</td>\n",
              "      <td>76.666667</td>\n",
              "      <td>66.813187</td>\n",
              "      <td>69.769231</td>\n",
              "      <td>0</td>\n",
              "      <td>73.076923</td>\n",
              "      <td>54.395604</td>\n",
              "      <td>65.000000</td>\n",
              "      <td>0</td>\n",
              "      <td>60.769231</td>\n",
              "      <td>45.274725</td>\n",
              "      <td>54.083333</td>\n",
              "      <td>1</td>\n",
              "      <td>65.128205</td>\n",
              "      <td>61.098901</td>\n",
              "      <td>67.500000</td>\n",
              "      <td>0</td>\n",
              "      <td>66.923077</td>\n",
              "      <td>55.604396</td>\n",
              "      <td>63.916667</td>\n",
              "      <td>0</td>\n",
              "      <td>53.846154</td>\n",
              "      <td>41.538462</td>\n",
              "      <td>59.4</td>\n",
              "      <td>0</td>\n",
              "      <td>69.743590</td>\n",
              "      <td>49.560440</td>\n",
              "      <td>0</td>\n",
              "      <td>66.000000</td>\n",
              "      <td>64.871795</td>\n",
              "      <td>42.307692</td>\n",
              "      <td>0</td>\n",
              "      <td>64.0</td>\n",
              "    </tr>\n",
              "    <tr>\n",
              "      <th>1</th>\n",
              "      <td>3610102715</td>\n",
              "      <td>84.358974</td>\n",
              "      <td>56.593407</td>\n",
              "      <td>65.153846</td>\n",
              "      <td>0</td>\n",
              "      <td>75.128205</td>\n",
              "      <td>56.703297</td>\n",
              "      <td>67.416667</td>\n",
              "      <td>0</td>\n",
              "      <td>66.410256</td>\n",
              "      <td>50.879121</td>\n",
              "      <td>60.166667</td>\n",
              "      <td>0</td>\n",
              "      <td>73.589744</td>\n",
              "      <td>77.362637</td>\n",
              "      <td>82.583333</td>\n",
              "      <td>0</td>\n",
              "      <td>82.051282</td>\n",
              "      <td>63.076923</td>\n",
              "      <td>74.500000</td>\n",
              "      <td>0</td>\n",
              "      <td>64.102564</td>\n",
              "      <td>62.637363</td>\n",
              "      <td>82.0</td>\n",
              "      <td>0</td>\n",
              "      <td>77.179487</td>\n",
              "      <td>62.087912</td>\n",
              "      <td>0</td>\n",
              "      <td>78.727273</td>\n",
              "      <td>68.461538</td>\n",
              "      <td>50.329670</td>\n",
              "      <td>0</td>\n",
              "      <td>72.5</td>\n",
              "    </tr>\n",
              "    <tr>\n",
              "      <th>2</th>\n",
              "      <td>3710102715</td>\n",
              "      <td>80.769231</td>\n",
              "      <td>69.230769</td>\n",
              "      <td>72.692308</td>\n",
              "      <td>1</td>\n",
              "      <td>74.102564</td>\n",
              "      <td>60.329670</td>\n",
              "      <td>69.833333</td>\n",
              "      <td>0</td>\n",
              "      <td>59.230769</td>\n",
              "      <td>57.032967</td>\n",
              "      <td>62.500000</td>\n",
              "      <td>0</td>\n",
              "      <td>77.435897</td>\n",
              "      <td>81.098901</td>\n",
              "      <td>86.666667</td>\n",
              "      <td>0</td>\n",
              "      <td>76.923077</td>\n",
              "      <td>67.692308</td>\n",
              "      <td>76.333333</td>\n",
              "      <td>0</td>\n",
              "      <td>63.333333</td>\n",
              "      <td>59.230769</td>\n",
              "      <td>78.6</td>\n",
              "      <td>0</td>\n",
              "      <td>83.076923</td>\n",
              "      <td>64.945055</td>\n",
              "      <td>0</td>\n",
              "      <td>83.181818</td>\n",
              "      <td>72.820513</td>\n",
              "      <td>58.351648</td>\n",
              "      <td>0</td>\n",
              "      <td>81.5</td>\n",
              "    </tr>\n",
              "    <tr>\n",
              "      <th>3</th>\n",
              "      <td>3810102715</td>\n",
              "      <td>81.025641</td>\n",
              "      <td>65.824176</td>\n",
              "      <td>70.384615</td>\n",
              "      <td>0</td>\n",
              "      <td>70.769231</td>\n",
              "      <td>58.241758</td>\n",
              "      <td>67.166667</td>\n",
              "      <td>0</td>\n",
              "      <td>62.307692</td>\n",
              "      <td>56.263736</td>\n",
              "      <td>62.916667</td>\n",
              "      <td>0</td>\n",
              "      <td>71.025641</td>\n",
              "      <td>75.824176</td>\n",
              "      <td>80.583333</td>\n",
              "      <td>0</td>\n",
              "      <td>77.948718</td>\n",
              "      <td>66.593407</td>\n",
              "      <td>75.833333</td>\n",
              "      <td>0</td>\n",
              "      <td>62.051282</td>\n",
              "      <td>55.714286</td>\n",
              "      <td>74.9</td>\n",
              "      <td>0</td>\n",
              "      <td>76.923077</td>\n",
              "      <td>58.021978</td>\n",
              "      <td>0</td>\n",
              "      <td>75.272727</td>\n",
              "      <td>70.512821</td>\n",
              "      <td>57.032967</td>\n",
              "      <td>0</td>\n",
              "      <td>79.4</td>\n",
              "    </tr>\n",
              "    <tr>\n",
              "      <th>4</th>\n",
              "      <td>3910102715</td>\n",
              "      <td>85.384615</td>\n",
              "      <td>73.296703</td>\n",
              "      <td>76.923077</td>\n",
              "      <td>0</td>\n",
              "      <td>75.384615</td>\n",
              "      <td>71.318681</td>\n",
              "      <td>78.583333</td>\n",
              "      <td>0</td>\n",
              "      <td>65.128205</td>\n",
              "      <td>59.340659</td>\n",
              "      <td>66.166667</td>\n",
              "      <td>0</td>\n",
              "      <td>70.256410</td>\n",
              "      <td>71.428571</td>\n",
              "      <td>77.000000</td>\n",
              "      <td>0</td>\n",
              "      <td>65.641026</td>\n",
              "      <td>63.516484</td>\n",
              "      <td>69.500000</td>\n",
              "      <td>0</td>\n",
              "      <td>62.564103</td>\n",
              "      <td>55.164835</td>\n",
              "      <td>74.6</td>\n",
              "      <td>0</td>\n",
              "      <td>78.974359</td>\n",
              "      <td>62.307692</td>\n",
              "      <td>0</td>\n",
              "      <td>79.545455</td>\n",
              "      <td>69.743590</td>\n",
              "      <td>55.824176</td>\n",
              "      <td>0</td>\n",
              "      <td>78.0</td>\n",
              "    </tr>\n",
              "    <tr>\n",
              "      <th>...</th>\n",
              "      <td>...</td>\n",
              "      <td>...</td>\n",
              "      <td>...</td>\n",
              "      <td>...</td>\n",
              "      <td>...</td>\n",
              "      <td>...</td>\n",
              "      <td>...</td>\n",
              "      <td>...</td>\n",
              "      <td>...</td>\n",
              "      <td>...</td>\n",
              "      <td>...</td>\n",
              "      <td>...</td>\n",
              "      <td>...</td>\n",
              "      <td>...</td>\n",
              "      <td>...</td>\n",
              "      <td>...</td>\n",
              "      <td>...</td>\n",
              "      <td>...</td>\n",
              "      <td>...</td>\n",
              "      <td>...</td>\n",
              "      <td>...</td>\n",
              "      <td>...</td>\n",
              "      <td>...</td>\n",
              "      <td>...</td>\n",
              "      <td>...</td>\n",
              "      <td>...</td>\n",
              "      <td>...</td>\n",
              "      <td>...</td>\n",
              "      <td>...</td>\n",
              "      <td>...</td>\n",
              "      <td>...</td>\n",
              "      <td>...</td>\n",
              "      <td>...</td>\n",
              "    </tr>\n",
              "    <tr>\n",
              "      <th>1385</th>\n",
              "      <td>41896502715</td>\n",
              "      <td>83.846154</td>\n",
              "      <td>65.384615</td>\n",
              "      <td>70.923077</td>\n",
              "      <td>0</td>\n",
              "      <td>82.820513</td>\n",
              "      <td>56.813187</td>\n",
              "      <td>70.000000</td>\n",
              "      <td>0</td>\n",
              "      <td>66.410256</td>\n",
              "      <td>59.780220</td>\n",
              "      <td>66.916667</td>\n",
              "      <td>0</td>\n",
              "      <td>69.487179</td>\n",
              "      <td>62.747253</td>\n",
              "      <td>70.166667</td>\n",
              "      <td>0</td>\n",
              "      <td>93.846154</td>\n",
              "      <td>70.000000</td>\n",
              "      <td>83.583333</td>\n",
              "      <td>0</td>\n",
              "      <td>75.897436</td>\n",
              "      <td>55.494505</td>\n",
              "      <td>80.1</td>\n",
              "      <td>0</td>\n",
              "      <td>85.641026</td>\n",
              "      <td>58.351648</td>\n",
              "      <td>0</td>\n",
              "      <td>78.636364</td>\n",
              "      <td>73.589744</td>\n",
              "      <td>57.362637</td>\n",
              "      <td>0</td>\n",
              "      <td>80.9</td>\n",
              "    </tr>\n",
              "    <tr>\n",
              "      <th>1386</th>\n",
              "      <td>42096502715</td>\n",
              "      <td>87.435897</td>\n",
              "      <td>62.527473</td>\n",
              "      <td>70.000000</td>\n",
              "      <td>0</td>\n",
              "      <td>73.846154</td>\n",
              "      <td>55.274725</td>\n",
              "      <td>65.916667</td>\n",
              "      <td>0</td>\n",
              "      <td>57.692308</td>\n",
              "      <td>53.846154</td>\n",
              "      <td>59.583333</td>\n",
              "      <td>0</td>\n",
              "      <td>75.641026</td>\n",
              "      <td>66.813187</td>\n",
              "      <td>75.250000</td>\n",
              "      <td>0</td>\n",
              "      <td>79.230769</td>\n",
              "      <td>61.318681</td>\n",
              "      <td>72.333333</td>\n",
              "      <td>0</td>\n",
              "      <td>76.666667</td>\n",
              "      <td>56.923077</td>\n",
              "      <td>81.7</td>\n",
              "      <td>0</td>\n",
              "      <td>81.794872</td>\n",
              "      <td>65.714286</td>\n",
              "      <td>0</td>\n",
              "      <td>83.363636</td>\n",
              "      <td>65.128205</td>\n",
              "      <td>53.626374</td>\n",
              "      <td>0</td>\n",
              "      <td>74.2</td>\n",
              "    </tr>\n",
              "    <tr>\n",
              "      <th>1387</th>\n",
              "      <td>42196502715</td>\n",
              "      <td>65.384615</td>\n",
              "      <td>58.791209</td>\n",
              "      <td>61.000000</td>\n",
              "      <td>0</td>\n",
              "      <td>62.564103</td>\n",
              "      <td>42.857143</td>\n",
              "      <td>52.833333</td>\n",
              "      <td>1</td>\n",
              "      <td>54.102564</td>\n",
              "      <td>50.659341</td>\n",
              "      <td>56.000000</td>\n",
              "      <td>0</td>\n",
              "      <td>62.820513</td>\n",
              "      <td>61.538462</td>\n",
              "      <td>67.083333</td>\n",
              "      <td>0</td>\n",
              "      <td>71.025641</td>\n",
              "      <td>62.967033</td>\n",
              "      <td>70.833333</td>\n",
              "      <td>0</td>\n",
              "      <td>55.641026</td>\n",
              "      <td>48.351648</td>\n",
              "      <td>65.7</td>\n",
              "      <td>0</td>\n",
              "      <td>76.410256</td>\n",
              "      <td>57.582418</td>\n",
              "      <td>0</td>\n",
              "      <td>74.727273</td>\n",
              "      <td>65.897436</td>\n",
              "      <td>52.417582</td>\n",
              "      <td>0</td>\n",
              "      <td>73.4</td>\n",
              "    </tr>\n",
              "    <tr>\n",
              "      <th>1388</th>\n",
              "      <td>42296502715</td>\n",
              "      <td>78.717949</td>\n",
              "      <td>61.758242</td>\n",
              "      <td>66.846154</td>\n",
              "      <td>0</td>\n",
              "      <td>81.025641</td>\n",
              "      <td>52.527473</td>\n",
              "      <td>66.166667</td>\n",
              "      <td>0</td>\n",
              "      <td>65.128205</td>\n",
              "      <td>53.186813</td>\n",
              "      <td>61.500000</td>\n",
              "      <td>0</td>\n",
              "      <td>80.769231</td>\n",
              "      <td>73.626374</td>\n",
              "      <td>82.083333</td>\n",
              "      <td>0</td>\n",
              "      <td>80.512821</td>\n",
              "      <td>64.065934</td>\n",
              "      <td>74.750000</td>\n",
              "      <td>0</td>\n",
              "      <td>73.076923</td>\n",
              "      <td>61.648352</td>\n",
              "      <td>84.6</td>\n",
              "      <td>0</td>\n",
              "      <td>83.333333</td>\n",
              "      <td>58.241758</td>\n",
              "      <td>0</td>\n",
              "      <td>77.727273</td>\n",
              "      <td>73.589744</td>\n",
              "      <td>54.285714</td>\n",
              "      <td>0</td>\n",
              "      <td>78.1</td>\n",
              "    </tr>\n",
              "    <tr>\n",
              "      <th>1389</th>\n",
              "      <td>42496502715</td>\n",
              "      <td>64.102564</td>\n",
              "      <td>49.450549</td>\n",
              "      <td>53.846154</td>\n",
              "      <td>3</td>\n",
              "      <td>59.230769</td>\n",
              "      <td>45.054945</td>\n",
              "      <td>53.666667</td>\n",
              "      <td>1</td>\n",
              "      <td>54.615385</td>\n",
              "      <td>48.131868</td>\n",
              "      <td>54.250000</td>\n",
              "      <td>0</td>\n",
              "      <td>77.948718</td>\n",
              "      <td>75.274725</td>\n",
              "      <td>82.416667</td>\n",
              "      <td>0</td>\n",
              "      <td>71.282051</td>\n",
              "      <td>59.340659</td>\n",
              "      <td>68.166667</td>\n",
              "      <td>1</td>\n",
              "      <td>75.384615</td>\n",
              "      <td>57.582418</td>\n",
              "      <td>81.8</td>\n",
              "      <td>0</td>\n",
              "      <td>82.307692</td>\n",
              "      <td>65.164835</td>\n",
              "      <td>0</td>\n",
              "      <td>83.090909</td>\n",
              "      <td>66.153846</td>\n",
              "      <td>51.978022</td>\n",
              "      <td>0</td>\n",
              "      <td>73.1</td>\n",
              "    </tr>\n",
              "  </tbody>\n",
              "</table>\n",
              "<p>1390 rows × 33 columns</p>\n",
              "</div>"
            ],
            "text/plain": [
              "         Roll No.    Sem_1_i    Sem_1_e  ...    Sem_8_e  Sem_8_b  Sem_8_t\n",
              "0       110102715  76.666667  66.813187  ...  42.307692        0     64.0\n",
              "1      3610102715  84.358974  56.593407  ...  50.329670        0     72.5\n",
              "2      3710102715  80.769231  69.230769  ...  58.351648        0     81.5\n",
              "3      3810102715  81.025641  65.824176  ...  57.032967        0     79.4\n",
              "4      3910102715  85.384615  73.296703  ...  55.824176        0     78.0\n",
              "...           ...        ...        ...  ...        ...      ...      ...\n",
              "1385  41896502715  83.846154  65.384615  ...  57.362637        0     80.9\n",
              "1386  42096502715  87.435897  62.527473  ...  53.626374        0     74.2\n",
              "1387  42196502715  65.384615  58.791209  ...  52.417582        0     73.4\n",
              "1388  42296502715  78.717949  61.758242  ...  54.285714        0     78.1\n",
              "1389  42496502715  64.102564  49.450549  ...  51.978022        0     73.1\n",
              "\n",
              "[1390 rows x 33 columns]"
            ]
          },
          "metadata": {
            "tags": []
          },
          "execution_count": 23
        }
      ]
    },
    {
      "cell_type": "code",
      "metadata": {
        "id": "Vg2hcPT1xiMX",
        "colab_type": "code",
        "colab": {}
      },
      "source": [
        "x=data[['Sem_1_e','Sem_2_e','Sem_3_e','Sem_4_e','Sem_5_e','Sem_6_e','Sem_7_i.1']]\n",
        "y=data.iloc[:,32:33]"
      ],
      "execution_count": null,
      "outputs": []
    },
    {
      "cell_type": "code",
      "metadata": {
        "id": "pM8dpe2cxufQ",
        "colab_type": "code",
        "colab": {}
      },
      "source": [
        "from sklearn.preprocessing import StandardScaler\n",
        "\n",
        "scaler=StandardScaler()\n",
        "\n",
        "x=scaler.fit_transform(x)\n",
        "y=scaler.fit_transform(y)"
      ],
      "execution_count": null,
      "outputs": []
    },
    {
      "cell_type": "code",
      "metadata": {
        "id": "FLgJMPTZxvK6",
        "colab_type": "code",
        "colab": {}
      },
      "source": [
        "from sklearn.model_selection import train_test_split\n",
        "\n",
        "X_train,X_test,Y_train,Y_test=train_test_split(x,y,test_size=0.3)"
      ],
      "execution_count": null,
      "outputs": []
    },
    {
      "cell_type": "markdown",
      "metadata": {
        "id": "5AAl4qgWx2Vb",
        "colab_type": "text"
      },
      "source": [
        "**Linear Regression**\n"
      ]
    },
    {
      "cell_type": "code",
      "metadata": {
        "id": "tACi8br8xykd",
        "colab_type": "code",
        "colab": {
          "base_uri": "https://localhost:8080/",
          "height": 34
        },
        "outputId": "e91f5946-0aa5-4805-c1c7-b954218a0557"
      },
      "source": [
        "from sklearn.linear_model import LinearRegression\n",
        "from sklearn.metrics import mean_squared_error,confusion_matrix\n",
        "from sklearn import svm\n",
        "\n",
        "model_linear=LinearRegression()\n",
        "model_linear.fit(X_train,Y_train)"
      ],
      "execution_count": null,
      "outputs": [
        {
          "output_type": "execute_result",
          "data": {
            "text/plain": [
              "LinearRegression(copy_X=True, fit_intercept=True, n_jobs=None, normalize=False)"
            ]
          },
          "metadata": {
            "tags": []
          },
          "execution_count": 27
        }
      ]
    },
    {
      "cell_type": "code",
      "metadata": {
        "id": "JhF1kxD9x9dY",
        "colab_type": "code",
        "colab": {}
      },
      "source": [
        "Y_linear_pred=model_linear.predict(X_test)\n",
        "rmse_test_linear = (np.sqrt(mean_squared_error(Y_test, Y_linear_pred)))"
      ],
      "execution_count": null,
      "outputs": []
    },
    {
      "cell_type": "markdown",
      "metadata": {
        "id": "Bti35DN6x-d0",
        "colab_type": "text"
      },
      "source": [
        "**Support Vector Machine**"
      ]
    },
    {
      "cell_type": "code",
      "metadata": {
        "id": "Xgsmub-PyCF3",
        "colab_type": "code",
        "colab": {
          "base_uri": "https://localhost:8080/",
          "height": 107
        },
        "outputId": "1bfb1521-a7f3-4e32-a19d-245c661c00cb"
      },
      "source": [
        "model_svr=svm.SVR()\n",
        "model_svr.fit(X_train,Y_train)"
      ],
      "execution_count": null,
      "outputs": [
        {
          "output_type": "stream",
          "text": [
            "/usr/local/lib/python3.6/dist-packages/sklearn/utils/validation.py:760: DataConversionWarning: A column-vector y was passed when a 1d array was expected. Please change the shape of y to (n_samples, ), for example using ravel().\n",
            "  y = column_or_1d(y, warn=True)\n"
          ],
          "name": "stderr"
        },
        {
          "output_type": "execute_result",
          "data": {
            "text/plain": [
              "SVR(C=1.0, cache_size=200, coef0=0.0, degree=3, epsilon=0.1, gamma='scale',\n",
              "    kernel='rbf', max_iter=-1, shrinking=True, tol=0.001, verbose=False)"
            ]
          },
          "metadata": {
            "tags": []
          },
          "execution_count": 29
        }
      ]
    },
    {
      "cell_type": "code",
      "metadata": {
        "id": "cafuKMdFyF21",
        "colab_type": "code",
        "colab": {}
      },
      "source": [
        "Y_svr_pred=model_svr.predict(X_test)\n",
        "rmse_test_svr = (np.sqrt(mean_squared_error(Y_test, Y_svr_pred)))"
      ],
      "execution_count": null,
      "outputs": []
    },
    {
      "cell_type": "markdown",
      "metadata": {
        "id": "FJmpc7GQyJ85",
        "colab_type": "text"
      },
      "source": [
        "Random Forest"
      ]
    },
    {
      "cell_type": "code",
      "metadata": {
        "id": "lu4snKBEyL9Q",
        "colab_type": "code",
        "colab": {
          "base_uri": "https://localhost:8080/",
          "height": 195
        },
        "outputId": "a79dfc67-296b-4ee8-a423-fef25c026c8f"
      },
      "source": [
        "from sklearn.ensemble import RandomForestRegressor\n",
        "\n",
        "regressor=RandomForestRegressor(n_estimators=100, criterion='mse')\n",
        "regressor.fit( X_train, Y_train)"
      ],
      "execution_count": null,
      "outputs": [
        {
          "output_type": "stream",
          "text": [
            "/usr/local/lib/python3.6/dist-packages/ipykernel_launcher.py:4: DataConversionWarning: A column-vector y was passed when a 1d array was expected. Please change the shape of y to (n_samples,), for example using ravel().\n",
            "  after removing the cwd from sys.path.\n"
          ],
          "name": "stderr"
        },
        {
          "output_type": "execute_result",
          "data": {
            "text/plain": [
              "RandomForestRegressor(bootstrap=True, ccp_alpha=0.0, criterion='mse',\n",
              "                      max_depth=None, max_features='auto', max_leaf_nodes=None,\n",
              "                      max_samples=None, min_impurity_decrease=0.0,\n",
              "                      min_impurity_split=None, min_samples_leaf=1,\n",
              "                      min_samples_split=2, min_weight_fraction_leaf=0.0,\n",
              "                      n_estimators=100, n_jobs=None, oob_score=False,\n",
              "                      random_state=None, verbose=0, warm_start=False)"
            ]
          },
          "metadata": {
            "tags": []
          },
          "execution_count": 31
        }
      ]
    },
    {
      "cell_type": "code",
      "metadata": {
        "id": "vGQm7cL-yO4W",
        "colab_type": "code",
        "colab": {}
      },
      "source": [
        "Y_forest_pred=regressor.predict(X_test)\n",
        "rmse_test_forest=(np.sqrt(mean_squared_error(Y_test, Y_forest_pred)))"
      ],
      "execution_count": null,
      "outputs": []
    },
    {
      "cell_type": "markdown",
      "metadata": {
        "id": "52MyaN5qz_Aa",
        "colab_type": "text"
      },
      "source": [
        "**Decision Tree**"
      ]
    },
    {
      "cell_type": "code",
      "metadata": {
        "id": "nb8_VgYbz-Rx",
        "colab_type": "code",
        "colab": {
          "base_uri": "https://localhost:8080/",
          "height": 122
        },
        "outputId": "be90c6ba-11fc-4571-c34c-61f0e07594dd"
      },
      "source": [
        "from sklearn.tree import DecisionTreeRegressor\n",
        "tree=DecisionTreeRegressor()\n",
        "tree.fit(X_train, Y_train)"
      ],
      "execution_count": null,
      "outputs": [
        {
          "output_type": "execute_result",
          "data": {
            "text/plain": [
              "DecisionTreeRegressor(ccp_alpha=0.0, criterion='mse', max_depth=None,\n",
              "                      max_features=None, max_leaf_nodes=None,\n",
              "                      min_impurity_decrease=0.0, min_impurity_split=None,\n",
              "                      min_samples_leaf=1, min_samples_split=2,\n",
              "                      min_weight_fraction_leaf=0.0, presort='deprecated',\n",
              "                      random_state=None, splitter='best')"
            ]
          },
          "metadata": {
            "tags": []
          },
          "execution_count": 33
        }
      ]
    },
    {
      "cell_type": "code",
      "metadata": {
        "id": "TiAzaMuE0Qbd",
        "colab_type": "code",
        "colab": {}
      },
      "source": [
        "Y_dtree_pred=tree.predict(X_test)\n",
        "rmse_test_dtree=(np.sqrt(mean_squared_error(Y_test, Y_dtree_pred)))"
      ],
      "execution_count": null,
      "outputs": []
    },
    {
      "cell_type": "markdown",
      "metadata": {
        "id": "Dw2KAN2qybMX",
        "colab_type": "text"
      },
      "source": [
        "**Calculated errors of various models**"
      ]
    },
    {
      "cell_type": "code",
      "metadata": {
        "id": "XgFpFB6YyRbU",
        "colab_type": "code",
        "colab": {
          "base_uri": "https://localhost:8080/",
          "height": 87
        },
        "outputId": "123dc127-ff31-48bf-8a56-c7bf0a7802be"
      },
      "source": [
        "print(\"Linear Regression: \" ,rmse_test_linear)\n",
        "print(\"Support Vector Machine: \" ,rmse_test_svr)\n",
        "print(\"Random Forest Regressor : \" ,rmse_test_forest)\n",
        "print(\"Decision Tree Regressor :\" ,rmse_test_dtree )"
      ],
      "execution_count": null,
      "outputs": [
        {
          "output_type": "stream",
          "text": [
            "Linear Regression:  0.6473670274110152\n",
            "Support Vector Machine:  0.6633848331523821\n",
            "Random Forest Regressor :  0.6970901156198128\n",
            "Decision Tree Regressor : 0.9820882637185705\n"
          ],
          "name": "stdout"
        }
      ]
    },
    {
      "cell_type": "code",
      "metadata": {
        "id": "R6eIz_gK1WdT",
        "colab_type": "code",
        "colab": {}
      },
      "source": [
        ""
      ],
      "execution_count": null,
      "outputs": []
    }
  ]
}